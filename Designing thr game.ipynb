{
 "cells": [
  {
   "cell_type": "code",
   "execution_count": 1,
   "metadata": {},
   "outputs": [],
   "source": [
    "from keras.models import load_model\n",
    "import cv2\n",
    "import numpy as np\n",
    "from random import choice"
   ]
  },
  {
   "cell_type": "code",
   "execution_count": 2,
   "metadata": {},
   "outputs": [],
   "source": [
    "REV_CLASS_MAP = {\n",
    "    0:\"face_mask\",\n",
    "    1:\"no_face\",\n",
    "    2:\"no_mask\",\n",
    "}"
   ]
  },
  {
   "cell_type": "code",
   "execution_count": 3,
   "metadata": {},
   "outputs": [],
   "source": [
    "def mapper(val):\n",
    "    return REV_CLASS_MAP[val]"
   ]
  },
  {
   "cell_type": "code",
   "execution_count": 4,
   "metadata": {},
   "outputs": [
    {
     "data": {
      "text/plain": [
       "'no_face'"
      ]
     },
     "execution_count": 4,
     "metadata": {},
     "output_type": "execute_result"
    }
   ],
   "source": [
    "REV_CLASS_MAP[1]"
   ]
  },
  {
   "cell_type": "code",
   "execution_count": null,
   "metadata": {},
   "outputs": [],
   "source": [
    "       \n",
    "        "
   ]
  },
  {
   "cell_type": "code",
   "execution_count": 5,
   "metadata": {},
   "outputs": [],
   "source": [
    "model = load_model(\"face_mask_detection.h5\")"
   ]
  },
  {
   "cell_type": "code",
   "execution_count": 12,
   "metadata": {},
   "outputs": [],
   "source": [
    "\n",
    "cap = cv2.VideoCapture(0)\n",
    "\n",
    "prev_move = None\n",
    "\n",
    "while True:\n",
    "    ret, frame = cap.read()\n",
    "    if not ret:\n",
    "        continue\n",
    "\n",
    "    # rectangle for user to play\n",
    "    cv2.rectangle(frame, (100, 100), (400, 400), (255, 255, 255), 2)\n",
    "    # rectangle for computer to play\n",
    "#     cv2.rectangle(frame, (350, 0), (550, 250), (255, 255, 255), 2)\n",
    "\n",
    "    # extract the region of image within the user rectangle\n",
    "    roi = frame[100:400, 100:400]\n",
    "    roi = roi/255.0\n",
    "#     img = cv2.cvtColor(roi, cv2.COLOR_BGR2RGB)\n",
    "#     img = cv2.resize(img, (227, 227))\n",
    "\n",
    "    # predict the move made\n",
    "    pred = model.predict(np.array([roi]))\n",
    "    move_code = np.argmax(pred[0])\n",
    "#     print(move_code)\n",
    "    user_move_name = mapper(move_code)\n",
    "\n",
    "    # predict the winner (human vs computer)\n",
    "    if prev_move != user_move_name:\n",
    "#         if user_move_name != \"none\":\n",
    "        computer_move_name = user_move_name\n",
    "        \n",
    "    prev_move = user_move_name\n",
    "\n",
    "    # display the information\n",
    "    font = cv2.FONT_HERSHEY_SIMPLEX\n",
    "\n",
    "    cv2.putText(frame, \"Face Mask Detection: \" + computer_move_name,\n",
    "                (150, 450), font, 0.6, (255, 255, 255), 2, cv2.LINE_AA)\n",
    "#     cv2.putText(frame, \"Winner: \" + winner,\n",
    "#                 (300, 300), font, 0.8, (0, 0, 255), 4, cv2.LINE_AA)\n",
    "\n",
    "#     if computer_move_name != \"none\":\n",
    "#         icon = cv2.imread(\n",
    "#             \"images/{}.png\".format(computer_move_name))\n",
    "#         icon = cv2.resize(icon, (200, 200))\n",
    "#         frame[0:200, 350:550] = icon\n",
    "\n",
    "    cv2.imshow(\"Face Mask Detector:\", frame)\n",
    "\n",
    "    k = cv2.waitKey(10)\n",
    "    if k == ord('q'):\n",
    "        break\n",
    "\n",
    "cap.release()\n",
    "cv2.destroyAllWindows()"
   ]
  },
  {
   "cell_type": "code",
   "execution_count": null,
   "metadata": {},
   "outputs": [],
   "source": []
  }
 ],
 "metadata": {
  "kernelspec": {
   "display_name": "Python 3",
   "language": "python",
   "name": "python3"
  },
  "language_info": {
   "codemirror_mode": {
    "name": "ipython",
    "version": 3
   },
   "file_extension": ".py",
   "mimetype": "text/x-python",
   "name": "python",
   "nbconvert_exporter": "python",
   "pygments_lexer": "ipython3",
   "version": "3.8.3"
  }
 },
 "nbformat": 4,
 "nbformat_minor": 4
}
